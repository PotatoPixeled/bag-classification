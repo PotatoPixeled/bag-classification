{
 "cells": [
  {
   "cell_type": "code",
   "execution_count": 1,
   "outputs": [],
   "source": [
    "from tensorflow.keras.layers import Conv2D, Flatten, Dense, MaxPool2D, BatchNormalization, GlobalAveragePooling2D\n",
    "from tensorflow.keras.applications.resnet50 import ResNet50, preprocess_input, decode_predictions\n",
    "from tensorflow.keras.preprocessing import image\n",
    "from tensorflow.keras.preprocessing.image import ImageDataGenerator, load_img\n",
    "from tensorflow.keras.models import Sequential, Model\n",
    "import matplotlib.pyplot as plt\n",
    "import numpy as np\n",
    "import splitfolders"
   ],
   "metadata": {
    "collapsed": false,
    "pycharm": {
     "name": "#%%\n"
    }
   }
  },
  {
   "cell_type": "code",
   "execution_count": 2,
   "outputs": [],
   "source": [
    "SEED = 42\n",
    "\n",
    "TRAIN_R = 0.6\n",
    "VAL_R = 0.2\n",
    "TEST_R = 0.2\n",
    "\n",
    "IMG_HEIGHT, IMG_WIDTH = (224, 224)\n",
    "BATCH_SIZE = 32\n",
    "\n",
    "DATA_DIR_PATH = \"dataset/test1\"\n",
    "OUTPUT_DIR = \"dataset/test2\"\n",
    "splitfolders.ratio(DATA_DIR_PATH, OUTPUT_DIR, seed=SEED, ratio=(TRAIN_R, VAL_R, TEST_R))"
   ],
   "metadata": {
    "collapsed": false,
    "pycharm": {
     "name": "#%%\n"
    }
   }
  },
  {
   "cell_type": "markdown",
   "source": [
    "set image sama batch size + set directory"
   ],
   "metadata": {
    "collapsed": false,
    "pycharm": {
     "name": "#%% md\n"
    }
   }
  },
  {
   "cell_type": "code",
   "execution_count": 3,
   "outputs": [],
   "source": [
    "train_data_dir = f\"{OUTPUT_DIR}/train\"\n",
    "test_data_dir = f\"{OUTPUT_DIR}/test\"\n",
    "valid_data_dir = f\"{OUTPUT_DIR}/val\""
   ],
   "metadata": {
    "collapsed": false,
    "pycharm": {
     "name": "#%%\n"
    }
   }
  },
  {
   "cell_type": "code",
   "execution_count": 4,
   "outputs": [
    {
     "name": "stdout",
     "output_type": "stream",
     "text": [
      "Found 424 images belonging to 4 classes.\n",
      "Found 141 images belonging to 4 classes.\n",
      "Found 144 images belonging to 4 classes.\n"
     ]
    }
   ],
   "source": [
    "train_datagen = ImageDataGenerator(\n",
    "    preprocessing_function=preprocess_input,\n",
    "    shear_range=0.2,\n",
    "    zoom_range=0.2,\n",
    "    horizontal_flip=True)\n",
    "\n",
    "test_datagen = ImageDataGenerator(\n",
    "    preprocessing_function=preprocess_input)\n",
    "\n",
    "train_generator = train_datagen.flow_from_directory(\n",
    "    train_data_dir,\n",
    "    target_size=(IMG_HEIGHT, IMG_WIDTH),\n",
    "    batch_size=BATCH_SIZE,\n",
    "    class_mode=\"categorical\")\n",
    "\n",
    "valid_generator = train_datagen.flow_from_directory(\n",
    "    valid_data_dir,\n",
    "    target_size=(IMG_HEIGHT, IMG_WIDTH),\n",
    "    batch_size=BATCH_SIZE,\n",
    "    class_mode=\"categorical\")\n",
    "\n",
    "\n",
    "test_generator = test_datagen.flow_from_directory(\n",
    "    test_data_dir,\n",
    "    target_size=(IMG_HEIGHT, IMG_WIDTH),\n",
    "    batch_size=1,\n",
    "    class_mode=\"categorical\")\n"
   ],
   "metadata": {
    "collapsed": false,
    "pycharm": {
     "name": "#%%\n"
    }
   }
  },
  {
   "cell_type": "code",
   "execution_count": 5,
   "outputs": [
    {
     "data": {
      "text/plain": "(1, 224, 224, 3)"
     },
     "execution_count": 5,
     "metadata": {},
     "output_type": "execute_result"
    }
   ],
   "source": [
    "x,y = test_generator.next()\n",
    "x.shape"
   ],
   "metadata": {
    "collapsed": false,
    "pycharm": {
     "name": "#%%\n"
    }
   }
  },
  {
   "cell_type": "code",
   "execution_count": 6,
   "outputs": [
    {
     "name": "stdout",
     "output_type": "stream",
     "text": [
      "Epoch 1/10\n",
      "14/14 [==============================] - 16s 1s/step - loss: 3.4189 - accuracy: 0.4151\n",
      "Epoch 2/10\n",
      "14/14 [==============================] - 14s 990ms/step - loss: 0.9228 - accuracy: 0.6486\n",
      "Epoch 3/10\n",
      "14/14 [==============================] - 14s 954ms/step - loss: 0.6332 - accuracy: 0.7311\n",
      "Epoch 4/10\n",
      "14/14 [==============================] - 14s 959ms/step - loss: 0.5581 - accuracy: 0.7571\n",
      "Epoch 5/10\n",
      "14/14 [==============================] - 14s 969ms/step - loss: 0.5587 - accuracy: 0.7665\n",
      "Epoch 6/10\n",
      "14/14 [==============================] - 14s 979ms/step - loss: 0.4987 - accuracy: 0.7972\n",
      "Epoch 7/10\n",
      "14/14 [==============================] - 14s 966ms/step - loss: 0.5384 - accuracy: 0.7665\n",
      "Epoch 8/10\n",
      "14/14 [==============================] - 14s 973ms/step - loss: 0.4950 - accuracy: 0.7830\n",
      "Epoch 9/10\n",
      "14/14 [==============================] - 14s 958ms/step - loss: 0.4309 - accuracy: 0.8113\n",
      "Epoch 10/10\n",
      "14/14 [==============================] - 14s 959ms/step - loss: 0.3525 - accuracy: 0.8538\n"
     ]
    }
   ],
   "source": [
    "EPOCHS = 10\n",
    "\n",
    "base_model = ResNet50(include_top=False, weights=\"imagenet\")\n",
    "\n",
    "x = base_model.output\n",
    "x = GlobalAveragePooling2D()(x)\n",
    "x = Dense(1024, activation=\"relu\")(x)\n",
    "\n",
    "predictions = Dense(train_generator.num_classes, activation=\"softmax\")(x)\n",
    "model = Model(inputs=base_model.input, outputs=predictions)\n",
    "\n",
    "for layer in base_model.layers:\n",
    "    layer.trainable = False\n",
    "\n",
    "model.compile(\n",
    "    optimizer=\"adam\",\n",
    "    loss=\"categorical_crossentropy\",\n",
    "    metrics=[\"accuracy\"])\n",
    "\n",
    "model.fit(\n",
    "    train_generator,\n",
    "    epochs = EPOCHS\n",
    ")\n",
    "model.save('model.h5')"
   ],
   "metadata": {
    "collapsed": false,
    "pycharm": {
     "name": "#%%\n"
    }
   }
  },
  {
   "cell_type": "code",
   "execution_count": 8,
   "outputs": [
    {
     "data": {
      "text/plain": "<Figure size 432x288 with 2 Axes>",
      "image/png": "[encoded data removed]"
     },
     "metadata": {},
     "output_type": "display_data"
    },
    {
     "name": "stdout",
     "output_type": "stream",
     "text": [
      "accuracy : 68.05555555555556\n"
     ]
    }
   ],
   "source": [
    "import pandas as pd\n",
    "import seaborn as sn\n",
    "import tensorflow as tf\n",
    "model = tf.keras.models.load_model(\"model.h5\")\n",
    "filename = test_generator.filenames\n",
    "sample_length = len(test_generator)\n",
    "y_prob = []\n",
    "y_act = []\n",
    "test_generator.reset()\n",
    "for _ in range(sample_length):\n",
    "    x_test,y_test = test_generator.next()\n",
    "    y_prob.append(model.predict(x_test))\n",
    "    y_act.append(y_test)\n",
    "\n",
    "predicted = [list(train_generator.class_indices.keys())[i.argmax()]for i in y_prob]\n",
    "actual = [list(train_generator.class_indices.keys())[i.argmax()]for i in y_act]\n",
    "\n",
    "out = pd.DataFrame(np.vstack([predicted,actual]).T,columns=['predicted','actual'])\n",
    "confusion_matrix = pd.crosstab(out['actual'],out['predicted'])\n",
    "\n",
    "sn.heatmap(confusion_matrix,cmap='Blues',annot=True,fmt='d')\n",
    "plt.show()\n",
    "print(\"accuracy : {}\".format((np.diagonal(confusion_matrix).sum()/confusion_matrix.sum().sum()*100)))"
   ],
   "metadata": {
    "collapsed": false,
    "pycharm": {
     "name": "#%%\n"
    }
   }
  }
 ],
 "metadata": {
  "kernelspec": {
   "display_name": "skripsi",
   "language": "python",
   "name": "skripsi"
  },
  "language_info": {
   "codemirror_mode": {
    "name": "ipython",
    "version": 3
   },
   "file_extension": ".py",
   "mimetype": "text/x-python",
   "name": "python",
   "nbconvert_exporter": "python",
   "pygments_lexer": "ipython3",
   "version": "3.10.4"
  }
 },
 "nbformat": 4,
 "nbformat_minor": 1
}